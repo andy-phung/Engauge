{
  "nbformat": 4,
  "nbformat_minor": 0,
  "metadata": {
    "colab": {
      "name": "Engagement/Stress Recognition",
      "provenance": [],
      "collapsed_sections": []
    },
    "kernelspec": {
      "name": "python3",
      "display_name": "Python 3"
    }
  },
  "cells": [
    {
      "cell_type": "code",
      "metadata": {
        "id": "zF6kgGk6emML",
        "colab_type": "code",
        "colab": {}
      },
      "source": [
        "import cv2\n",
        "import tensorflow as tf\n",
        "import numpy as np\n",
        "import pandas as pd\n",
        "import matplotlib.pyplot as plt \n",
        "import os\n",
        "from sklearn.model_selection import train_test_split\n",
        "from tensorflow.keras import datasets, layers, models\n",
        "import math"
      ],
      "execution_count": 14,
      "outputs": []
    },
    {
      "cell_type": "code",
      "metadata": {
        "id": "kV9at7I68m4f",
        "colab_type": "code",
        "colab": {
          "base_uri": "https://localhost:8080/",
          "height": 34
        },
        "outputId": "5c5e0762-b028-4f45-9e5b-c0bbb03e1e3e"
      },
      "source": [
        "from google.colab import drive\n",
        "drive.mount(\"/content/drive\")"
      ],
      "execution_count": 6,
      "outputs": [
        {
          "output_type": "stream",
          "text": [
            "Drive already mounted at /content/drive; to attempt to forcibly remount, call drive.mount(\"/content/drive\", force_remount=True).\n"
          ],
          "name": "stdout"
        }
      ]
    },
    {
      "cell_type": "code",
      "metadata": {
        "id": "mVRJMdoo3Sh0",
        "colab_type": "code",
        "colab": {
          "base_uri": "https://localhost:8080/",
          "height": 104
        },
        "outputId": "63e3950e-27d8-412e-8eaf-1b21715ff52b"
      },
      "source": [
        "def getFirstFrame(videofile):\n",
        "    vidcap = cv2.VideoCapture(videofile)\n",
        "    success, image = vidcap.read()\n",
        "    if success:\n",
        "      return image  \n",
        "    else:\n",
        "      return \"fail\"\n",
        "path = \"/content/drive/My Drive/Test/\"\n",
        "\n",
        "csv_path = \"/content/drive/My Drive/TestLabels.csv\"\n",
        "\n",
        "df = pd.read_csv(csv_path, sep='\\s*,\\s*')\n",
        "\n",
        "frames = []\n",
        "labels = []\n",
        "index = 0\n",
        "\n",
        "for subdir, dirs, videofolders in os.walk(path):\n",
        "  dirs.sort()\n",
        "  try:\n",
        "    image = getFirstFrame(str(subdir+\"/\"+videofolders[0])) \n",
        "    image = cv2.resize(image, (320, 240))\n",
        "    frames.append(image) \n",
        "    assert videofolders[0] == df[\"ClipID\"].iloc[index]\n",
        "    label = [float(df[\"Boredom\"].iloc[index])/3, float(df[\"Engagement\"].iloc[index])/3, float(df[\"Confusion\"].iloc[index])/3, float(df[\"Frustration\"].iloc[index])/3]\n",
        "    labels.append(label)\n",
        "    index +=1 \n",
        "  except:\n",
        "    pass\n",
        "\n",
        "print(len(frames))\n",
        "print(len(labels))\n",
        "\n",
        "frames = frames[:len(frames)-82] # removing extra vids\n",
        "\n",
        "X = np.array(frames)\n",
        "y = np.array(labels)\n",
        "\n",
        "X_train, X_test, Y_train, Y_test = train_test_split(X, y, test_size=0.33, random_state=64)"
      ],
      "execution_count": 7,
      "outputs": [
        {
          "output_type": "stream",
          "text": [
            "/usr/local/lib/python3.6/dist-packages/ipykernel_launcher.py:12: ParserWarning: Falling back to the 'python' engine because the 'c' engine does not support regex separators (separators > 1 char and different from '\\s+' are interpreted as regex); you can avoid this warning by specifying engine='python'.\n",
            "  if sys.path[0] == '':\n"
          ],
          "name": "stderr"
        },
        {
          "output_type": "stream",
          "text": [
            "1866\n",
            "1784\n"
          ],
          "name": "stdout"
        }
      ]
    },
    {
      "cell_type": "code",
      "metadata": {
        "id": "rKkUvSdpFmnn",
        "colab_type": "code",
        "colab": {
          "base_uri": "https://localhost:8080/",
          "height": 538
        },
        "outputId": "1332c228-b8ef-421d-d1da-26748f29a4b5"
      },
      "source": [
        "model = models.Sequential() # test model\n",
        "model.add(layers.Conv2D(3, (12, 12), activation='relu', input_shape=(240, 320, 3)))\n",
        "model.add(layers.MaxPooling2D((2, 2), strides=3)) \n",
        "model.add(layers.Conv2D(5, (9, 9), activation='relu'))\n",
        "model.add(layers.MaxPooling2D((4, 4), strides=3)) \n",
        "model.add(layers.Conv2D(10, (9, 9), activation='relu')) \n",
        "model.add(layers.MaxPooling2D((2, 2), strides=3))\n",
        "model.add(layers.Flatten()) \n",
        "model.add(layers.Dense(200, activation='relu')) \n",
        "model.add(layers.Dense(128, activation='relu'))\n",
        "model.add(layers.Dense(64, activation='relu'))\n",
        "model.add(layers.Dense(4, activation='sigmoid')) \n",
        "\n",
        "print(model.summary())\n",
        "\n",
        "model.compile(optimizer='adam', \n",
        "              loss=tf.keras.losses.BinaryCrossentropy(), \n",
        "              metrics=['accuracy'])\n",
        "\n"
      ],
      "execution_count": 8,
      "outputs": [
        {
          "output_type": "stream",
          "text": [
            "Model: \"sequential_1\"\n",
            "_________________________________________________________________\n",
            "Layer (type)                 Output Shape              Param #   \n",
            "=================================================================\n",
            "conv2d_3 (Conv2D)            (None, 229, 309, 3)       1299      \n",
            "_________________________________________________________________\n",
            "max_pooling2d_3 (MaxPooling2 (None, 76, 103, 3)        0         \n",
            "_________________________________________________________________\n",
            "conv2d_4 (Conv2D)            (None, 68, 95, 5)         1220      \n",
            "_________________________________________________________________\n",
            "max_pooling2d_4 (MaxPooling2 (None, 22, 31, 5)         0         \n",
            "_________________________________________________________________\n",
            "conv2d_5 (Conv2D)            (None, 14, 23, 10)        4060      \n",
            "_________________________________________________________________\n",
            "max_pooling2d_5 (MaxPooling2 (None, 5, 8, 10)          0         \n",
            "_________________________________________________________________\n",
            "flatten_1 (Flatten)          (None, 400)               0         \n",
            "_________________________________________________________________\n",
            "dense_4 (Dense)              (None, 200)               80200     \n",
            "_________________________________________________________________\n",
            "dense_5 (Dense)              (None, 128)               25728     \n",
            "_________________________________________________________________\n",
            "dense_6 (Dense)              (None, 64)                8256      \n",
            "_________________________________________________________________\n",
            "dense_7 (Dense)              (None, 4)                 260       \n",
            "=================================================================\n",
            "Total params: 121,023\n",
            "Trainable params: 121,023\n",
            "Non-trainable params: 0\n",
            "_________________________________________________________________\n",
            "None\n"
          ],
          "name": "stdout"
        }
      ]
    },
    {
      "cell_type": "code",
      "metadata": {
        "id": "xi77xXDtSLCg",
        "colab_type": "code",
        "colab": {
          "base_uri": "https://localhost:8080/",
          "height": 468
        },
        "outputId": "8186374b-d4c3-47e7-f1df-92bbfe5da1a2"
      },
      "source": [
        "history = model.fit(X_train, Y_train, epochs=5, \n",
        "                    validation_data=(X_test, Y_test)) # just testing for now\n",
        "\n",
        "plt.plot(history.history['accuracy'], label='accuracy')\n",
        "plt.plot(history.history['val_accuracy'], label = 'val_accuracy')\n",
        "plt.xlabel('Epoch')\n",
        "plt.ylabel('Accuracy')\n",
        "plt.ylim([0.5, 1])\n",
        "plt.legend(loc='lower right')\n",
        "\n",
        "# evaluating our model on our test set\n",
        "test_loss, test_acc = model.evaluate(X_test, Y_test, verbose=2)\n",
        "\n",
        "\n",
        "# then export the model (build a pipeline)\n",
        "\n",
        "# for inference on the zoom recording, just perform inference on representative frames\n",
        "# (times 4 since you're dividing each frame into four quarters) and average for each person\n"
      ],
      "execution_count": 9,
      "outputs": [
        {
          "output_type": "stream",
          "text": [
            "Epoch 1/5\n",
            "38/38 [==============================] - 197s 5s/step - loss: 0.6070 - accuracy: 0.7623 - val_loss: 0.4589 - val_accuracy: 0.7980\n",
            "Epoch 2/5\n",
            "38/38 [==============================] - 199s 5s/step - loss: 0.4388 - accuracy: 0.8050 - val_loss: 0.4499 - val_accuracy: 0.7980\n",
            "Epoch 3/5\n",
            "38/38 [==============================] - 202s 5s/step - loss: 0.4269 - accuracy: 0.8050 - val_loss: 0.4498 - val_accuracy: 0.7980\n",
            "Epoch 4/5\n",
            "38/38 [==============================] - 206s 5s/step - loss: 0.4170 - accuracy: 0.8100 - val_loss: 0.4523 - val_accuracy: 0.7980\n",
            "Epoch 5/5\n",
            "38/38 [==============================] - 202s 5s/step - loss: 0.4116 - accuracy: 0.8134 - val_loss: 0.4511 - val_accuracy: 0.7980\n",
            "19/19 - 21s - loss: 0.4511 - accuracy: 0.7980\n"
          ],
          "name": "stdout"
        },
        {
          "output_type": "display_data",
          "data": {
            "image/png": "[encoded data removed]",
            "text/plain": [
              "<Figure size 432x288 with 1 Axes>"
            ]
          },
          "metadata": {
            "tags": [],
            "needs_background": "light"
          }
        }
      ]
    },
    {
      "cell_type": "code",
      "metadata": {
        "id": "SMhf6uPoZYn8",
        "colab_type": "code",
        "colab": {
          "base_uri": "https://localhost:8080/",
          "height": 154
        },
        "outputId": "e3b6b050-7dee-4b01-805c-0a5467c91dbc"
      },
      "source": [
        "model.save('/content/')"
      ],
      "execution_count": 10,
      "outputs": [
        {
          "output_type": "stream",
          "text": [
            "WARNING:tensorflow:From /usr/local/lib/python3.6/dist-packages/tensorflow/python/training/tracking/tracking.py:111: Model.state_updates (from tensorflow.python.keras.engine.training) is deprecated and will be removed in a future version.\n",
            "Instructions for updating:\n",
            "This property should not be used in TensorFlow 2.0, as updates are applied automatically.\n",
            "WARNING:tensorflow:From /usr/local/lib/python3.6/dist-packages/tensorflow/python/training/tracking/tracking.py:111: Layer.updates (from tensorflow.python.keras.engine.base_layer) is deprecated and will be removed in a future version.\n",
            "Instructions for updating:\n",
            "This property should not be used in TensorFlow 2.0, as updates are applied automatically.\n",
            "INFO:tensorflow:Assets written to: /content/assets\n"
          ],
          "name": "stdout"
        }
      ]
    },
    {
      "cell_type": "code",
      "metadata": {
        "id": "hV-SAkJIdnHM",
        "colab_type": "code",
        "colab": {}
      },
      "source": [
        "model.save(\"model.h5\")\n"
      ],
      "execution_count": 11,
      "outputs": []
    },
    {
      "cell_type": "code",
      "metadata": {
        "id": "rPAtFHk5efX-",
        "colab_type": "code",
        "colab": {
          "base_uri": "https://localhost:8080/",
          "height": 336
        },
        "outputId": "db5fe3d6-28d2-4794-8643-3bd5ad022d33"
      },
      "source": [
        "frame = X_test[0]\n",
        "prediction = model.predict(np.array([frame,]))\n",
        "plt.imshow(X_test[0])\n",
        "plt.show()\n",
        "print(prediction)\n",
        "print(Y_test[0])\n",
        "print(type(prediction))\n",
        "print(prediction[0])\n"
      ],
      "execution_count": 22,
      "outputs": [
        {
          "output_type": "display_data",
          "data": {
            "image/png": "[encoded data removed]",
            "text/plain": [
              "<Figure size 432x288 with 1 Axes>"
            ]
          },
          "metadata": {
            "tags": [],
            "needs_background": "light"
          }
        },
        {
          "output_type": "stream",
          "text": [
            "[[0.28260732 0.7734469  0.06115547 0.03885174]]\n",
            "[0.33333333 1.         0.         0.        ]\n",
            "<class 'numpy.ndarray'>\n",
            "[0.28260732 0.7734469  0.06115547 0.03885174]\n"
          ],
          "name": "stdout"
        }
      ]
    },
    {
      "cell_type": "markdown",
      "metadata": {
        "id": "DqDKbrsXjj7C",
        "colab_type": "text"
      },
      "source": [
        "## Pipeline Stuff"
      ]
    },
    {
      "cell_type": "code",
      "metadata": {
        "id": "6iemN5oYRUcm",
        "colab_type": "code",
        "colab": {}
      },
      "source": [
        "# function for inference after loading the model\n",
        "def predict(frame): # frame should be a numpy array in the shape (240, 320, 3)\n",
        "  prediction = model.predict(np.array([frame,]))\n",
        "  prediction = prediction * 3\n",
        "  engagement_score = prediction[0][1] - prediction[0][0]\n",
        "  stress_score = prediction[0][2] + prediction[0][3] \n",
        "  print(\"Engagement: \" + str(engagement_score))\n",
        "  print(\"Stress: \" + str(stress_score))\n",
        "  frame = cv2.cvtColor(frame, cv2.COLOR_BGR2RGB)\n",
        "  plt.imshow(frame)\n",
        "  plt.show()\n",
        "  return engagement_score, stress_score\n",
        "\n",
        "# function to get frames from an opencv video \n",
        "def get_subjects(video_path, frame_rate):\n",
        "  cap = cv2.VideoCapture(video_path)\n",
        "  images_folder = \"/content/\"\n",
        "  frame_list = []\n",
        "  frameRate = cap.get(frame_rate) #frame rate (adjust as needed)\n",
        "  while(cap.isOpened()):\n",
        "      frameId = cap.get(1) #current frame number\n",
        "      ret, frame = cap.read()\n",
        "      if (ret != True):\n",
        "          break\n",
        "      if (frameId % math.floor(frameRate) == 0):\n",
        "          filename = images_folder + \"/image_\" +  str(int(frameId)) + \".jpg\"\n",
        "          frame_list.append(frame)\n",
        "    \n",
        "  cap.release()\n",
        "  return frame_list\n",
        "\n",
        "def divide_four(frame_list): \n",
        "  tl = []\n",
        "  tr = []\n",
        "  bl = []\n",
        "  br = []\n",
        "  for frame in frame_list:\n",
        "    height, width = frame.shape[0], frame.shape[1]\n",
        "    top_left = frame[0:int(-height/2), 0:int(width/2)]\n",
        "    top_right = frame[0:int(-height/2), int(width/2):width]\n",
        "    bottom_left = frame[int(-height/2):height, 0:int(width/2)]\n",
        "    bottom_right = frame[int(-height/2):height, int(width/2):width]\n",
        "    tl.append(top_left)\n",
        "    tr.append(top_right)\n",
        "    bl.append(bottom_left)\n",
        "    br.append(bottom_right)\n",
        "  return [tl, tr, bl, br] \n",
        "\n",
        "def resize(frame):\n",
        "  return cv2.resize(frame, (320, 240))"
      ],
      "execution_count": 34,
      "outputs": []
    },
    {
      "cell_type": "code",
      "metadata": {
        "id": "pk9vVl4uj8p6",
        "colab_type": "code",
        "colab": {}
      },
      "source": [
        ""
      ],
      "execution_count": null,
      "outputs": []
    }
  ]
}